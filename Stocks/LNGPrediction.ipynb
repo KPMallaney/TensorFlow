{
 "cells": [
  {
   "cell_type": "code",
   "execution_count": 20,
   "id": "8d3b908d",
   "metadata": {},
   "outputs": [
    {
     "name": "stdout",
     "output_type": "stream",
     "text": [
      "2.9.1\n"
     ]
    }
   ],
   "source": [
    "import pandas as pd\n",
    "import numpy as np\n",
    "import matplotlib.pyplot as plt\n",
    "import seaborn as sns\n",
    "import yfinance as yf\n",
    "import tensorflow as tf\n",
    "from tensorflow import keras\n",
    "from tensorflow.keras import layers\n",
    "\n",
    "print(tf.__version__)"
   ]
  },
  {
   "cell_type": "code",
   "execution_count": 3,
   "id": "21ca1443",
   "metadata": {},
   "outputs": [
    {
     "name": "stdout",
     "output_type": "stream",
     "text": [
      "[*********************100%***********************]  1 of 1 completed\n"
     ]
    }
   ],
   "source": [
    "df = yf.download('LNG', '2012-01-01', '2022-02-22')"
   ]
  },
  {
   "cell_type": "code",
   "execution_count": 4,
   "id": "ead5d018",
   "metadata": {},
   "outputs": [
    {
     "data": {
      "text/html": [
       "<div>\n",
       "<style scoped>\n",
       "    .dataframe tbody tr th:only-of-type {\n",
       "        vertical-align: middle;\n",
       "    }\n",
       "\n",
       "    .dataframe tbody tr th {\n",
       "        vertical-align: top;\n",
       "    }\n",
       "\n",
       "    .dataframe thead th {\n",
       "        text-align: right;\n",
       "    }\n",
       "</style>\n",
       "<table border=\"1\" class=\"dataframe\">\n",
       "  <thead>\n",
       "    <tr style=\"text-align: right;\">\n",
       "      <th></th>\n",
       "      <th>Open</th>\n",
       "      <th>High</th>\n",
       "      <th>Low</th>\n",
       "      <th>Close</th>\n",
       "      <th>Adj Close</th>\n",
       "      <th>Volume</th>\n",
       "    </tr>\n",
       "    <tr>\n",
       "      <th>Date</th>\n",
       "      <th></th>\n",
       "      <th></th>\n",
       "      <th></th>\n",
       "      <th></th>\n",
       "      <th></th>\n",
       "      <th></th>\n",
       "    </tr>\n",
       "  </thead>\n",
       "  <tbody>\n",
       "    <tr>\n",
       "      <th>2012-01-03</th>\n",
       "      <td>8.89</td>\n",
       "      <td>8.97</td>\n",
       "      <td>8.70</td>\n",
       "      <td>8.75</td>\n",
       "      <td>8.615541</td>\n",
       "      <td>2716100</td>\n",
       "    </tr>\n",
       "    <tr>\n",
       "      <th>2012-01-04</th>\n",
       "      <td>8.72</td>\n",
       "      <td>8.85</td>\n",
       "      <td>8.63</td>\n",
       "      <td>8.76</td>\n",
       "      <td>8.625389</td>\n",
       "      <td>2358200</td>\n",
       "    </tr>\n",
       "    <tr>\n",
       "      <th>2012-01-05</th>\n",
       "      <td>8.80</td>\n",
       "      <td>9.31</td>\n",
       "      <td>8.70</td>\n",
       "      <td>9.30</td>\n",
       "      <td>9.157091</td>\n",
       "      <td>4555600</td>\n",
       "    </tr>\n",
       "    <tr>\n",
       "      <th>2012-01-06</th>\n",
       "      <td>9.33</td>\n",
       "      <td>9.78</td>\n",
       "      <td>8.99</td>\n",
       "      <td>9.00</td>\n",
       "      <td>8.861700</td>\n",
       "      <td>4081300</td>\n",
       "    </tr>\n",
       "    <tr>\n",
       "      <th>2012-01-09</th>\n",
       "      <td>9.02</td>\n",
       "      <td>9.15</td>\n",
       "      <td>8.74</td>\n",
       "      <td>8.79</td>\n",
       "      <td>8.654927</td>\n",
       "      <td>2127100</td>\n",
       "    </tr>\n",
       "  </tbody>\n",
       "</table>\n",
       "</div>"
      ],
      "text/plain": [
       "            Open  High   Low  Close  Adj Close   Volume\n",
       "Date                                                   \n",
       "2012-01-03  8.89  8.97  8.70   8.75   8.615541  2716100\n",
       "2012-01-04  8.72  8.85  8.63   8.76   8.625389  2358200\n",
       "2012-01-05  8.80  9.31  8.70   9.30   9.157091  4555600\n",
       "2012-01-06  9.33  9.78  8.99   9.00   8.861700  4081300\n",
       "2012-01-09  9.02  9.15  8.74   8.79   8.654927  2127100"
      ]
     },
     "execution_count": 4,
     "metadata": {},
     "output_type": "execute_result"
    }
   ],
   "source": [
    "df.head()"
   ]
  },
  {
   "cell_type": "code",
   "execution_count": 5,
   "id": "bb09fbf0",
   "metadata": {},
   "outputs": [
    {
     "data": {
      "text/html": [
       "<div>\n",
       "<style scoped>\n",
       "    .dataframe tbody tr th:only-of-type {\n",
       "        vertical-align: middle;\n",
       "    }\n",
       "\n",
       "    .dataframe tbody tr th {\n",
       "        vertical-align: top;\n",
       "    }\n",
       "\n",
       "    .dataframe thead th {\n",
       "        text-align: right;\n",
       "    }\n",
       "</style>\n",
       "<table border=\"1\" class=\"dataframe\">\n",
       "  <thead>\n",
       "    <tr style=\"text-align: right;\">\n",
       "      <th></th>\n",
       "      <th>Open</th>\n",
       "      <th>High</th>\n",
       "      <th>Low</th>\n",
       "      <th>Close</th>\n",
       "      <th>Adj Close</th>\n",
       "      <th>Volume</th>\n",
       "    </tr>\n",
       "    <tr>\n",
       "      <th>Date</th>\n",
       "      <th></th>\n",
       "      <th></th>\n",
       "      <th></th>\n",
       "      <th></th>\n",
       "      <th></th>\n",
       "      <th></th>\n",
       "    </tr>\n",
       "  </thead>\n",
       "  <tbody>\n",
       "    <tr>\n",
       "      <th>2022-02-14</th>\n",
       "      <td>119.470001</td>\n",
       "      <td>120.379997</td>\n",
       "      <td>115.290001</td>\n",
       "      <td>116.889999</td>\n",
       "      <td>115.788055</td>\n",
       "      <td>1826000</td>\n",
       "    </tr>\n",
       "    <tr>\n",
       "      <th>2022-02-15</th>\n",
       "      <td>114.010002</td>\n",
       "      <td>116.620003</td>\n",
       "      <td>112.089996</td>\n",
       "      <td>113.989998</td>\n",
       "      <td>112.915390</td>\n",
       "      <td>2120500</td>\n",
       "    </tr>\n",
       "    <tr>\n",
       "      <th>2022-02-16</th>\n",
       "      <td>114.730003</td>\n",
       "      <td>117.160004</td>\n",
       "      <td>114.449997</td>\n",
       "      <td>114.889999</td>\n",
       "      <td>113.806908</td>\n",
       "      <td>1346300</td>\n",
       "    </tr>\n",
       "    <tr>\n",
       "      <th>2022-02-17</th>\n",
       "      <td>116.410004</td>\n",
       "      <td>117.750000</td>\n",
       "      <td>114.260002</td>\n",
       "      <td>115.879997</td>\n",
       "      <td>114.787582</td>\n",
       "      <td>2026200</td>\n",
       "    </tr>\n",
       "    <tr>\n",
       "      <th>2022-02-18</th>\n",
       "      <td>115.650002</td>\n",
       "      <td>116.370003</td>\n",
       "      <td>114.129997</td>\n",
       "      <td>116.019997</td>\n",
       "      <td>114.926262</td>\n",
       "      <td>1634800</td>\n",
       "    </tr>\n",
       "  </tbody>\n",
       "</table>\n",
       "</div>"
      ],
      "text/plain": [
       "                  Open        High         Low       Close   Adj Close  \\\n",
       "Date                                                                     \n",
       "2022-02-14  119.470001  120.379997  115.290001  116.889999  115.788055   \n",
       "2022-02-15  114.010002  116.620003  112.089996  113.989998  112.915390   \n",
       "2022-02-16  114.730003  117.160004  114.449997  114.889999  113.806908   \n",
       "2022-02-17  116.410004  117.750000  114.260002  115.879997  114.787582   \n",
       "2022-02-18  115.650002  116.370003  114.129997  116.019997  114.926262   \n",
       "\n",
       "             Volume  \n",
       "Date                 \n",
       "2022-02-14  1826000  \n",
       "2022-02-15  2120500  \n",
       "2022-02-16  1346300  \n",
       "2022-02-17  2026200  \n",
       "2022-02-18  1634800  "
      ]
     },
     "execution_count": 5,
     "metadata": {},
     "output_type": "execute_result"
    }
   ],
   "source": [
    "df.tail()"
   ]
  },
  {
   "cell_type": "code",
   "execution_count": 6,
   "id": "45406251",
   "metadata": {},
   "outputs": [],
   "source": [
    "backupdf = df"
   ]
  },
  {
   "cell_type": "code",
   "execution_count": 7,
   "id": "64f1e677",
   "metadata": {},
   "outputs": [],
   "source": [
    "df=df[['Close']]"
   ]
  },
  {
   "cell_type": "code",
   "execution_count": 11,
   "id": "36fdbca6",
   "metadata": {},
   "outputs": [
    {
     "data": {
      "text/plain": [
       "Close    0\n",
       "dtype: int64"
      ]
     },
     "execution_count": 11,
     "metadata": {},
     "output_type": "execute_result"
    }
   ],
   "source": [
    "df.isnull().sum()"
   ]
  },
  {
   "cell_type": "code",
   "execution_count": 12,
   "id": "a5eb4d7e",
   "metadata": {},
   "outputs": [
    {
     "data": {
      "image/png": "[encoded data removed]",
      "text/plain": [
       "<Figure size 1200x700 with 1 Axes>"
      ]
     },
     "metadata": {},
     "output_type": "display_data"
    }
   ],
   "source": [
    "df.Close.plot(figsize=(12, 7))\n",
    "plt.ylabel(\"LNG Close Prices\")\n",
    "plt.show()"
   ]
  },
  {
   "cell_type": "code",
   "execution_count": 21,
   "id": "ba2be0f3",
   "metadata": {},
   "outputs": [
    {
     "data": {
      "text/html": [
       "<div>\n",
       "<style scoped>\n",
       "    .dataframe tbody tr th:only-of-type {\n",
       "        vertical-align: middle;\n",
       "    }\n",
       "\n",
       "    .dataframe tbody tr th {\n",
       "        vertical-align: top;\n",
       "    }\n",
       "\n",
       "    .dataframe thead th {\n",
       "        text-align: right;\n",
       "    }\n",
       "</style>\n",
       "<table border=\"1\" class=\"dataframe\">\n",
       "  <thead>\n",
       "    <tr style=\"text-align: right;\">\n",
       "      <th></th>\n",
       "      <th>Open</th>\n",
       "      <th>High</th>\n",
       "      <th>Low</th>\n",
       "      <th>Close</th>\n",
       "      <th>Adj Close</th>\n",
       "      <th>Volume</th>\n",
       "    </tr>\n",
       "    <tr>\n",
       "      <th>Date</th>\n",
       "      <th></th>\n",
       "      <th></th>\n",
       "      <th></th>\n",
       "      <th></th>\n",
       "      <th></th>\n",
       "      <th></th>\n",
       "    </tr>\n",
       "  </thead>\n",
       "  <tbody>\n",
       "    <tr>\n",
       "      <th>2012-01-03</th>\n",
       "      <td>8.89</td>\n",
       "      <td>8.97</td>\n",
       "      <td>8.70</td>\n",
       "      <td>8.75</td>\n",
       "      <td>8.615541</td>\n",
       "      <td>2716100</td>\n",
       "    </tr>\n",
       "    <tr>\n",
       "      <th>2012-01-04</th>\n",
       "      <td>8.72</td>\n",
       "      <td>8.85</td>\n",
       "      <td>8.63</td>\n",
       "      <td>8.76</td>\n",
       "      <td>8.625389</td>\n",
       "      <td>2358200</td>\n",
       "    </tr>\n",
       "    <tr>\n",
       "      <th>2012-01-05</th>\n",
       "      <td>8.80</td>\n",
       "      <td>9.31</td>\n",
       "      <td>8.70</td>\n",
       "      <td>9.30</td>\n",
       "      <td>9.157091</td>\n",
       "      <td>4555600</td>\n",
       "    </tr>\n",
       "    <tr>\n",
       "      <th>2012-01-06</th>\n",
       "      <td>9.33</td>\n",
       "      <td>9.78</td>\n",
       "      <td>8.99</td>\n",
       "      <td>9.00</td>\n",
       "      <td>8.861700</td>\n",
       "      <td>4081300</td>\n",
       "    </tr>\n",
       "    <tr>\n",
       "      <th>2012-01-09</th>\n",
       "      <td>9.02</td>\n",
       "      <td>9.15</td>\n",
       "      <td>8.74</td>\n",
       "      <td>8.79</td>\n",
       "      <td>8.654927</td>\n",
       "      <td>2127100</td>\n",
       "    </tr>\n",
       "  </tbody>\n",
       "</table>\n",
       "</div>"
      ],
      "text/plain": [
       "            Open  High   Low  Close  Adj Close   Volume\n",
       "Date                                                   \n",
       "2012-01-03  8.89  8.97  8.70   8.75   8.615541  2716100\n",
       "2012-01-04  8.72  8.85  8.63   8.76   8.625389  2358200\n",
       "2012-01-05  8.80  9.31  8.70   9.30   9.157091  4555600\n",
       "2012-01-06  9.33  9.78  8.99   9.00   8.861700  4081300\n",
       "2012-01-09  9.02  9.15  8.74   8.79   8.654927  2127100"
      ]
     },
     "execution_count": 21,
     "metadata": {},
     "output_type": "execute_result"
    }
   ],
   "source": [
    "backupdf.head()"
   ]
  },
  {
   "cell_type": "code",
   "execution_count": 22,
   "id": "7627bd87",
   "metadata": {},
   "outputs": [],
   "source": [
    "fullData = backupdf"
   ]
  },
  {
   "cell_type": "code",
   "execution_count": 24,
   "id": "7e0b4eb1",
   "metadata": {},
   "outputs": [
    {
     "data": {
      "text/plain": [
       "Open         0\n",
       "High         0\n",
       "Low          0\n",
       "Close        0\n",
       "Adj Close    0\n",
       "Volume       0\n",
       "dtype: int64"
      ]
     },
     "execution_count": 24,
     "metadata": {},
     "output_type": "execute_result"
    }
   ],
   "source": [
    "fullData.isnull().sum()"
   ]
  },
  {
   "cell_type": "code",
   "execution_count": 26,
   "id": "a242eefc",
   "metadata": {},
   "outputs": [],
   "source": [
    "trainData = fullData.sample(frac=0.8, random_state =0)\n",
    "testData = fullData.drop(trainData.index)"
   ]
  },
  {
   "cell_type": "code",
   "execution_count": null,
   "id": "b462f8db",
   "metadata": {},
   "outputs": [],
   "source": []
  }
 ],
 "metadata": {
  "kernelspec": {
   "display_name": "Python 3 (ipykernel)",
   "language": "python",
   "name": "python3"
  },
  "language_info": {
   "codemirror_mode": {
    "name": "ipython",
    "version": 3
   },
   "file_extension": ".py",
   "mimetype": "text/x-python",
   "name": "python",
   "nbconvert_exporter": "python",
   "pygments_lexer": "ipython3",
   "version": "3.8.13"
  }
 },
 "nbformat": 4,
 "nbformat_minor": 5
}
